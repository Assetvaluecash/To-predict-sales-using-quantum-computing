{
  "nbformat": 4,
  "nbformat_minor": 0,
  "metadata": {
    "colab": {
      "provenance": []
    },
    "kernelspec": {
      "name": "python3",
      "display_name": "Python 3"
    },
    "language_info": {
      "name": "python"
    }
  },
  "cells": [
    {
      "cell_type": "code",
      "source": [
        "!pip install qiskit\n",
        "!pip install qiskit-aqua\n",
        "\n",
        "\n",
        "\n",
        "\n"
      ],
      "metadata": {
        "colab": {
          "base_uri": "https://localhost:8080/"
        },
        "id": "n4QdQRdQtbwb",
        "outputId": "2bff9c58-d7d0-480b-dcc0-d77b1750a44b"
      },
      "execution_count": 47,
      "outputs": [
        {
          "output_type": "stream",
          "name": "stdout",
          "text": [
            "Looking in indexes: https://pypi.org/simple, https://us-python.pkg.dev/colab-wheels/public/simple/\n",
            "Requirement already satisfied: qiskit in /usr/local/lib/python3.9/dist-packages (0.42.1)\n",
            "Requirement already satisfied: qiskit-aer==0.12.0 in /usr/local/lib/python3.9/dist-packages (from qiskit) (0.12.0)\n",
            "Requirement already satisfied: qiskit-ibmq-provider==0.20.2 in /usr/local/lib/python3.9/dist-packages (from qiskit) (0.20.2)\n",
            "Requirement already satisfied: qiskit-terra==0.23.3 in /usr/local/lib/python3.9/dist-packages (from qiskit) (0.23.3)\n",
            "Requirement already satisfied: numpy>=1.16.3 in /usr/local/lib/python3.9/dist-packages (from qiskit-aer==0.12.0->qiskit) (1.22.4)\n",
            "Requirement already satisfied: scipy>=1.0 in /usr/local/lib/python3.9/dist-packages (from qiskit-aer==0.12.0->qiskit) (1.10.1)\n",
            "Requirement already satisfied: websockets>=10.0 in /usr/local/lib/python3.9/dist-packages (from qiskit-ibmq-provider==0.20.2->qiskit) (10.4)\n",
            "Requirement already satisfied: urllib3>=1.21.1 in /usr/local/lib/python3.9/dist-packages (from qiskit-ibmq-provider==0.20.2->qiskit) (1.26.15)\n",
            "Requirement already satisfied: websocket-client>=1.5.1 in /usr/local/lib/python3.9/dist-packages (from qiskit-ibmq-provider==0.20.2->qiskit) (1.5.1)\n",
            "Requirement already satisfied: python-dateutil>=2.8.0 in /usr/local/lib/python3.9/dist-packages (from qiskit-ibmq-provider==0.20.2->qiskit) (2.8.2)\n",
            "Requirement already satisfied: requests-ntlm<=1.1.0 in /usr/local/lib/python3.9/dist-packages (from qiskit-ibmq-provider==0.20.2->qiskit) (1.1.0)\n",
            "Requirement already satisfied: requests>=2.19 in /usr/local/lib/python3.9/dist-packages (from qiskit-ibmq-provider==0.20.2->qiskit) (2.27.1)\n",
            "Requirement already satisfied: stevedore>=3.0.0 in /usr/local/lib/python3.9/dist-packages (from qiskit-terra==0.23.3->qiskit) (5.0.0)\n",
            "Requirement already satisfied: sympy>=1.3 in /usr/local/lib/python3.9/dist-packages (from qiskit-terra==0.23.3->qiskit) (1.11.1)\n",
            "Requirement already satisfied: dill>=0.3 in /usr/local/lib/python3.9/dist-packages (from qiskit-terra==0.23.3->qiskit) (0.3.6)\n",
            "Requirement already satisfied: rustworkx>=0.12.0 in /usr/local/lib/python3.9/dist-packages (from qiskit-terra==0.23.3->qiskit) (0.12.1)\n",
            "Requirement already satisfied: ply>=3.10 in /usr/local/lib/python3.9/dist-packages (from qiskit-terra==0.23.3->qiskit) (3.11)\n",
            "Requirement already satisfied: symengine>=0.9 in /usr/local/lib/python3.9/dist-packages (from qiskit-terra==0.23.3->qiskit) (0.10.0)\n",
            "Requirement already satisfied: psutil>=5 in /usr/local/lib/python3.9/dist-packages (from qiskit-terra==0.23.3->qiskit) (5.9.4)\n",
            "Requirement already satisfied: six>=1.5 in /usr/local/lib/python3.9/dist-packages (from python-dateutil>=2.8.0->qiskit-ibmq-provider==0.20.2->qiskit) (1.16.0)\n",
            "Requirement already satisfied: certifi>=2017.4.17 in /usr/local/lib/python3.9/dist-packages (from requests>=2.19->qiskit-ibmq-provider==0.20.2->qiskit) (2022.12.7)\n",
            "Requirement already satisfied: idna<4,>=2.5 in /usr/local/lib/python3.9/dist-packages (from requests>=2.19->qiskit-ibmq-provider==0.20.2->qiskit) (3.4)\n",
            "Requirement already satisfied: charset-normalizer~=2.0.0 in /usr/local/lib/python3.9/dist-packages (from requests>=2.19->qiskit-ibmq-provider==0.20.2->qiskit) (2.0.12)\n",
            "Requirement already satisfied: ntlm-auth>=1.0.2 in /usr/local/lib/python3.9/dist-packages (from requests-ntlm<=1.1.0->qiskit-ibmq-provider==0.20.2->qiskit) (1.5.0)\n",
            "Requirement already satisfied: cryptography>=1.3 in /usr/local/lib/python3.9/dist-packages (from requests-ntlm<=1.1.0->qiskit-ibmq-provider==0.20.2->qiskit) (40.0.1)\n",
            "Requirement already satisfied: pbr!=2.1.0,>=2.0.0 in /usr/local/lib/python3.9/dist-packages (from stevedore>=3.0.0->qiskit-terra==0.23.3->qiskit) (5.11.1)\n",
            "Requirement already satisfied: mpmath>=0.19 in /usr/local/lib/python3.9/dist-packages (from sympy>=1.3->qiskit-terra==0.23.3->qiskit) (1.3.0)\n",
            "Requirement already satisfied: cffi>=1.12 in /usr/local/lib/python3.9/dist-packages (from cryptography>=1.3->requests-ntlm<=1.1.0->qiskit-ibmq-provider==0.20.2->qiskit) (1.15.1)\n",
            "Requirement already satisfied: pycparser in /usr/local/lib/python3.9/dist-packages (from cffi>=1.12->cryptography>=1.3->requests-ntlm<=1.1.0->qiskit-ibmq-provider==0.20.2->qiskit) (2.21)\n",
            "Looking in indexes: https://pypi.org/simple, https://us-python.pkg.dev/colab-wheels/public/simple/\n",
            "Requirement already satisfied: qiskit-aqua in /usr/local/lib/python3.9/dist-packages (0.9.5)\n",
            "Requirement already satisfied: numpy>=1.17 in /usr/local/lib/python3.9/dist-packages (from qiskit-aqua) (1.22.4)\n",
            "Requirement already satisfied: pandas in /usr/local/lib/python3.9/dist-packages (from qiskit-aqua) (1.4.4)\n",
            "Requirement already satisfied: qiskit-terra>=0.18.0 in /usr/local/lib/python3.9/dist-packages (from qiskit-aqua) (0.23.3)\n",
            "Requirement already satisfied: scipy>=1.4 in /usr/local/lib/python3.9/dist-packages (from qiskit-aqua) (1.10.1)\n",
            "Requirement already satisfied: yfinance>=0.1.62 in /usr/local/lib/python3.9/dist-packages (from qiskit-aqua) (0.2.14)\n",
            "Requirement already satisfied: sympy>=1.3 in /usr/local/lib/python3.9/dist-packages (from qiskit-aqua) (1.11.1)\n",
            "Requirement already satisfied: docplex>=2.21.207 in /usr/local/lib/python3.9/dist-packages (from qiskit-aqua) (2.25.236)\n",
            "Requirement already satisfied: psutil>=5 in /usr/local/lib/python3.9/dist-packages (from qiskit-aqua) (5.9.4)\n",
            "Requirement already satisfied: h5py<3.3.0 in /usr/local/lib/python3.9/dist-packages (from qiskit-aqua) (3.2.1)\n",
            "Requirement already satisfied: quandl in /usr/local/lib/python3.9/dist-packages (from qiskit-aqua) (3.7.0)\n",
            "Requirement already satisfied: scikit-learn>=0.20.0 in /usr/local/lib/python3.9/dist-packages (from qiskit-aqua) (1.2.2)\n",
            "Requirement already satisfied: setuptools>=40.1.0 in /usr/local/lib/python3.9/dist-packages (from qiskit-aqua) (67.6.1)\n",
            "Requirement already satisfied: dlx<=1.0.4 in /usr/local/lib/python3.9/dist-packages (from qiskit-aqua) (1.0.4)\n",
            "Requirement already satisfied: qiskit-ignis>=0.6.0 in /usr/local/lib/python3.9/dist-packages (from qiskit-aqua) (0.7.1)\n",
            "Requirement already satisfied: retworkx>=0.8.0 in /usr/local/lib/python3.9/dist-packages (from qiskit-aqua) (0.12.1)\n",
            "Requirement already satisfied: fastdtw<=0.3.4 in /usr/local/lib/python3.9/dist-packages (from qiskit-aqua) (0.3.4)\n",
            "Requirement already satisfied: six in /usr/local/lib/python3.9/dist-packages (from docplex>=2.21.207->qiskit-aqua) (1.16.0)\n",
            "Requirement already satisfied: rustworkx>=0.12.0 in /usr/local/lib/python3.9/dist-packages (from qiskit-terra>=0.18.0->qiskit-aqua) (0.12.1)\n",
            "Requirement already satisfied: python-dateutil>=2.8.0 in /usr/local/lib/python3.9/dist-packages (from qiskit-terra>=0.18.0->qiskit-aqua) (2.8.2)\n",
            "Requirement already satisfied: symengine>=0.9 in /usr/local/lib/python3.9/dist-packages (from qiskit-terra>=0.18.0->qiskit-aqua) (0.10.0)\n",
            "Requirement already satisfied: ply>=3.10 in /usr/local/lib/python3.9/dist-packages (from qiskit-terra>=0.18.0->qiskit-aqua) (3.11)\n",
            "Requirement already satisfied: dill>=0.3 in /usr/local/lib/python3.9/dist-packages (from qiskit-terra>=0.18.0->qiskit-aqua) (0.3.6)\n",
            "Requirement already satisfied: stevedore>=3.0.0 in /usr/local/lib/python3.9/dist-packages (from qiskit-terra>=0.18.0->qiskit-aqua) (5.0.0)\n",
            "Requirement already satisfied: joblib>=1.1.1 in /usr/local/lib/python3.9/dist-packages (from scikit-learn>=0.20.0->qiskit-aqua) (1.1.1)\n",
            "Requirement already satisfied: threadpoolctl>=2.0.0 in /usr/local/lib/python3.9/dist-packages (from scikit-learn>=0.20.0->qiskit-aqua) (3.1.0)\n",
            "Requirement already satisfied: mpmath>=0.19 in /usr/local/lib/python3.9/dist-packages (from sympy>=1.3->qiskit-aqua) (1.3.0)\n",
            "Requirement already satisfied: beautifulsoup4>=4.11.1 in /usr/local/lib/python3.9/dist-packages (from yfinance>=0.1.62->qiskit-aqua) (4.11.2)\n",
            "Requirement already satisfied: html5lib>=1.1 in /usr/local/lib/python3.9/dist-packages (from yfinance>=0.1.62->qiskit-aqua) (1.1)\n",
            "Requirement already satisfied: requests>=2.26 in /usr/local/lib/python3.9/dist-packages (from yfinance>=0.1.62->qiskit-aqua) (2.27.1)\n",
            "Requirement already satisfied: lxml>=4.9.1 in /usr/local/lib/python3.9/dist-packages (from yfinance>=0.1.62->qiskit-aqua) (4.9.2)\n",
            "Requirement already satisfied: frozendict>=2.3.4 in /usr/local/lib/python3.9/dist-packages (from yfinance>=0.1.62->qiskit-aqua) (2.3.6)\n",
            "Requirement already satisfied: appdirs>=1.4.4 in /usr/local/lib/python3.9/dist-packages (from yfinance>=0.1.62->qiskit-aqua) (1.4.4)\n",
            "Requirement already satisfied: cryptography>=3.3.2 in /usr/local/lib/python3.9/dist-packages (from yfinance>=0.1.62->qiskit-aqua) (40.0.1)\n",
            "Requirement already satisfied: pytz>=2022.5 in /usr/local/lib/python3.9/dist-packages (from yfinance>=0.1.62->qiskit-aqua) (2022.7.1)\n",
            "Requirement already satisfied: multitasking>=0.0.7 in /usr/local/lib/python3.9/dist-packages (from yfinance>=0.1.62->qiskit-aqua) (0.0.11)\n",
            "Requirement already satisfied: inflection>=0.3.1 in /usr/local/lib/python3.9/dist-packages (from quandl->qiskit-aqua) (0.5.1)\n",
            "Requirement already satisfied: more-itertools in /usr/local/lib/python3.9/dist-packages (from quandl->qiskit-aqua) (9.1.0)\n",
            "Requirement already satisfied: soupsieve>1.2 in /usr/local/lib/python3.9/dist-packages (from beautifulsoup4>=4.11.1->yfinance>=0.1.62->qiskit-aqua) (2.4)\n",
            "Requirement already satisfied: cffi>=1.12 in /usr/local/lib/python3.9/dist-packages (from cryptography>=3.3.2->yfinance>=0.1.62->qiskit-aqua) (1.15.1)\n",
            "Requirement already satisfied: webencodings in /usr/local/lib/python3.9/dist-packages (from html5lib>=1.1->yfinance>=0.1.62->qiskit-aqua) (0.5.1)\n",
            "Requirement already satisfied: charset-normalizer~=2.0.0 in /usr/local/lib/python3.9/dist-packages (from requests>=2.26->yfinance>=0.1.62->qiskit-aqua) (2.0.12)\n",
            "Requirement already satisfied: idna<4,>=2.5 in /usr/local/lib/python3.9/dist-packages (from requests>=2.26->yfinance>=0.1.62->qiskit-aqua) (3.4)\n",
            "Requirement already satisfied: urllib3<1.27,>=1.21.1 in /usr/local/lib/python3.9/dist-packages (from requests>=2.26->yfinance>=0.1.62->qiskit-aqua) (1.26.15)\n",
            "Requirement already satisfied: certifi>=2017.4.17 in /usr/local/lib/python3.9/dist-packages (from requests>=2.26->yfinance>=0.1.62->qiskit-aqua) (2022.12.7)\n",
            "Requirement already satisfied: pbr!=2.1.0,>=2.0.0 in /usr/local/lib/python3.9/dist-packages (from stevedore>=3.0.0->qiskit-terra>=0.18.0->qiskit-aqua) (5.11.1)\n",
            "Requirement already satisfied: pycparser in /usr/local/lib/python3.9/dist-packages (from cffi>=1.12->cryptography>=3.3.2->yfinance>=0.1.62->qiskit-aqua) (2.21)\n",
            "E: Unable to locate package qiskit\n"
          ]
        }
      ]
    },
    {
      "cell_type": "code",
      "execution_count": 48,
      "metadata": {
        "id": "3q3RXM2RsI3A"
      },
      "outputs": [],
      "source": [
        "from qiskit import QuantumCircuit, QuantumRegister, ClassicalRegister, execute, Aer\n"
      ]
    },
    {
      "cell_type": "markdown",
      "source": [
        "Code for Quantum Ridge Regression:"
      ],
      "metadata": {
        "id": "Dfo792RN9Ji2"
      }
    },
    {
      "cell_type": "code",
      "source": [
        "import numpy as np\n",
        "import pandas as pd\n",
        "#from qiskit.aqua import QuantumInstance\n",
        "from qiskit.aqua.algorithms import QiskitFinance\n",
        "from qiskit.finance.applications import OptimalPricing\n",
        "from qiskit.finance.data_providers import RandomDataProvider\n",
        "\n",
        "\n",
        "\n",
        "\n"
      ],
      "metadata": {
        "colab": {
          "base_uri": "https://localhost:8080/",
          "height": 536
        },
        "id": "ULJKtCSKsmA7",
        "outputId": "d2d88b71-18dc-46a4-d854-2c39c5357df9"
      },
      "execution_count": 49,
      "outputs": [
        {
          "output_type": "error",
          "ename": "ImportError",
          "evalue": "ignored",
          "traceback": [
            "\u001b[0;31m---------------------------------------------------------------------------\u001b[0m",
            "\u001b[0;31mImportError\u001b[0m                               Traceback (most recent call last)",
            "\u001b[0;32m<ipython-input-49-1a502725660d>\u001b[0m in \u001b[0;36m<cell line: 4>\u001b[0;34m()\u001b[0m\n\u001b[1;32m      2\u001b[0m \u001b[0;32mimport\u001b[0m \u001b[0mpandas\u001b[0m \u001b[0;32mas\u001b[0m \u001b[0mpd\u001b[0m\u001b[0;34m\u001b[0m\u001b[0;34m\u001b[0m\u001b[0m\n\u001b[1;32m      3\u001b[0m \u001b[0;31m#from qiskit.aqua import QuantumInstance\u001b[0m\u001b[0;34m\u001b[0m\u001b[0;34m\u001b[0m\u001b[0m\n\u001b[0;32m----> 4\u001b[0;31m \u001b[0;32mfrom\u001b[0m \u001b[0mqiskit\u001b[0m\u001b[0;34m.\u001b[0m\u001b[0maqua\u001b[0m\u001b[0;34m.\u001b[0m\u001b[0malgorithms\u001b[0m \u001b[0;32mimport\u001b[0m \u001b[0mQiskitFinance\u001b[0m\u001b[0;34m\u001b[0m\u001b[0;34m\u001b[0m\u001b[0m\n\u001b[0m\u001b[1;32m      5\u001b[0m \u001b[0;32mfrom\u001b[0m \u001b[0mqiskit\u001b[0m\u001b[0;34m.\u001b[0m\u001b[0mfinance\u001b[0m\u001b[0;34m.\u001b[0m\u001b[0mapplications\u001b[0m \u001b[0;32mimport\u001b[0m \u001b[0mOptimalPricing\u001b[0m\u001b[0;34m\u001b[0m\u001b[0;34m\u001b[0m\u001b[0m\n\u001b[1;32m      6\u001b[0m \u001b[0;32mfrom\u001b[0m \u001b[0mqiskit\u001b[0m\u001b[0;34m.\u001b[0m\u001b[0mfinance\u001b[0m\u001b[0;34m.\u001b[0m\u001b[0mdata_providers\u001b[0m \u001b[0;32mimport\u001b[0m \u001b[0mRandomDataProvider\u001b[0m\u001b[0;34m\u001b[0m\u001b[0;34m\u001b[0m\u001b[0m\n",
            "\u001b[0;32m/usr/local/lib/python3.9/dist-packages/qiskit/aqua/__init__.py\u001b[0m in \u001b[0;36m<module>\u001b[0;34m\u001b[0m\n\u001b[1;32m     74\u001b[0m \u001b[0;32mfrom\u001b[0m \u001b[0;34m.\u001b[0m\u001b[0mmissing_optional_library_error\u001b[0m \u001b[0;32mimport\u001b[0m \u001b[0mMissingOptionalLibraryError\u001b[0m\u001b[0;34m\u001b[0m\u001b[0;34m\u001b[0m\u001b[0m\n\u001b[1;32m     75\u001b[0m \u001b[0;32mfrom\u001b[0m \u001b[0;34m.\u001b[0m\u001b[0maqua_globals\u001b[0m \u001b[0;32mimport\u001b[0m \u001b[0maqua_globals\u001b[0m\u001b[0;34m\u001b[0m\u001b[0;34m\u001b[0m\u001b[0m\n\u001b[0;32m---> 76\u001b[0;31m \u001b[0;32mfrom\u001b[0m \u001b[0;34m.\u001b[0m\u001b[0mquantum_instance\u001b[0m \u001b[0;32mimport\u001b[0m \u001b[0mQuantumInstance\u001b[0m\u001b[0;34m\u001b[0m\u001b[0;34m\u001b[0m\u001b[0m\n\u001b[0m\u001b[1;32m     77\u001b[0m \u001b[0;32mfrom\u001b[0m \u001b[0;34m.\u001b[0m\u001b[0malgorithms\u001b[0m \u001b[0;32mimport\u001b[0m \u001b[0mQuantumAlgorithm\u001b[0m\u001b[0;34m\u001b[0m\u001b[0;34m\u001b[0m\u001b[0m\n\u001b[1;32m     78\u001b[0m from ._logging import (QiskitLogDomains,\n",
            "\u001b[0;32m/usr/local/lib/python3.9/dist-packages/qiskit/aqua/quantum_instance.py\u001b[0m in \u001b[0;36m<module>\u001b[0;34m\u001b[0m\n\u001b[1;32m     19\u001b[0m \u001b[0;32mimport\u001b[0m \u001b[0mnumpy\u001b[0m \u001b[0;32mas\u001b[0m \u001b[0mnp\u001b[0m\u001b[0;34m\u001b[0m\u001b[0;34m\u001b[0m\u001b[0m\n\u001b[1;32m     20\u001b[0m \u001b[0;34m\u001b[0m\u001b[0m\n\u001b[0;32m---> 21\u001b[0;31m \u001b[0;32mfrom\u001b[0m \u001b[0mqiskit\u001b[0m\u001b[0;34m.\u001b[0m\u001b[0mproviders\u001b[0m \u001b[0;32mimport\u001b[0m \u001b[0mBackend\u001b[0m\u001b[0;34m,\u001b[0m \u001b[0mBaseBackend\u001b[0m\u001b[0;34m\u001b[0m\u001b[0;34m\u001b[0m\u001b[0m\n\u001b[0m\u001b[1;32m     22\u001b[0m \u001b[0;32mfrom\u001b[0m \u001b[0mqiskit\u001b[0m\u001b[0;34m.\u001b[0m\u001b[0mtranspiler\u001b[0m \u001b[0;32mimport\u001b[0m \u001b[0mCouplingMap\u001b[0m\u001b[0;34m,\u001b[0m \u001b[0mPassManager\u001b[0m\u001b[0;34m\u001b[0m\u001b[0;34m\u001b[0m\u001b[0m\n\u001b[1;32m     23\u001b[0m \u001b[0;32mfrom\u001b[0m \u001b[0mqiskit\u001b[0m\u001b[0;34m.\u001b[0m\u001b[0mtranspiler\u001b[0m\u001b[0;34m.\u001b[0m\u001b[0mlayout\u001b[0m \u001b[0;32mimport\u001b[0m \u001b[0mLayout\u001b[0m\u001b[0;34m\u001b[0m\u001b[0;34m\u001b[0m\u001b[0m\n",
            "\u001b[0;31mImportError\u001b[0m: cannot import name 'BaseBackend' from 'qiskit.providers' (/usr/local/lib/python3.9/dist-packages/qiskit/providers/__init__.py)",
            "",
            "\u001b[0;31m---------------------------------------------------------------------------\u001b[0;32m\nNOTE: If your import is failing due to a missing package, you can\nmanually install dependencies using either !pip or !apt.\n\nTo view examples of installing some common dependencies, click the\n\"Open Examples\" button below.\n\u001b[0;31m---------------------------------------------------------------------------\u001b[0m\n"
          ],
          "errorDetails": {
            "actions": [
              {
                "action": "open_url",
                "actionText": "Open Examples",
                "url": "/notebooks/snippets/importing_libraries.ipynb"
              }
            ]
          }
        }
      ]
    },
    {
      "cell_type": "code",
      "source": [
        "# Load data\n",
        "df = pd.read_excel('Saledata.xlsx', sheet_name='Sheet1')\n",
        "\n"
      ],
      "metadata": {
        "id": "JYZwNSJfsnsS"
      },
      "execution_count": null,
      "outputs": []
    },
    {
      "cell_type": "code",
      "source": [
        "\n",
        "# Convert data to numpy arrays\n",
        "dates = pd.to_datetime(df['OrderDate'])\n",
        "product_ids = df['Productid'].unique()\n",
        "unit_sales = np.zeros((len(product_ids), len(dates)))\n",
        "for i, pid in enumerate(product_ids):\n",
        "    unit_sales[i] = df.loc[df['Productid']==pid, 'Units'].values\n",
        "\n"
      ],
      "metadata": {
        "id": "l6yd2ZjEsr1Y"
      },
      "execution_count": null,
      "outputs": []
    },
    {
      "cell_type": "code",
      "source": [
        "    \n",
        "# Run quantum ridge regression\n",
        "provider = RandomDataProvider(tickers=product_ids, seed=0, start=dates[0], end=dates[-1])\n",
        "mu = provider.get_mean_vector()\n",
        "sigma = provider.get_covariance_matrix()\n",
        "qrr = QiskitFinance.QuantumRidgeRegression(mu, sigma, QuantumInstance('qasm_simulator'))\n",
        "result = qrr.run()\n",
        "predictions = result['y_mean']"
      ],
      "metadata": {
        "id": "fTwM-0AvsuBC"
      },
      "execution_count": null,
      "outputs": []
    },
    {
      "cell_type": "markdown",
      "source": [
        "Code for Quantum Amplitude Estimation:"
      ],
      "metadata": {
        "id": "kFpzgm1L9Bat"
      }
    },
    {
      "cell_type": "code",
      "source": [
        "\n",
        "\n",
        "import numpy as np\n",
        "import pandas as pd\n",
        "from qiskit.aqua import QuantumInstance\n",
        "from qiskit.aqua.algorithms import AmplitudeEstimation\n",
        "from qiskit.finance.applications import OptimalPricing\n",
        "from qiskit.finance.data_providers import RandomDataProvider\n",
        "\n",
        "# Load data\n",
        "df = pd.read_excel('Saledata.xlsx', sheet_name='Sheet1')\n",
        "\n",
        "# Convert data to numpy arrays\n",
        "dates = pd.to_datetime(df['OrderDate'])\n",
        "product_ids = df['Productid'].unique()\n",
        "unit_sales = np.zeros((len(product_ids), len(dates)))\n",
        "for i, pid in enumerate(product_ids):\n",
        "    unit_sales[i] = df.loc[df['Productid']==pid, 'Units'].values\n",
        "    \n",
        "# Run quantum amplitude estimation\n",
        "provider = RandomDataProvider(tickers=product_ids, seed=0, start=dates[0], end=dates[-1])\n",
        "mu = provider.get_mean_vector()\n",
        "sigma = provider.get_covariance_matrix()\n",
        "ae = AmplitudeEstimation(state_preparation=OptimalPricing(mu, sigma), objective_qubits=2, num_time_slices=1)\n",
        "result = ae.run(QuantumInstance('qasm_simulator'))\n",
        "predictions = result['estimation']\n"
      ],
      "metadata": {
        "id": "w4nbv9HXswHm"
      },
      "execution_count": null,
      "outputs": []
    },
    {
      "cell_type": "markdown",
      "source": [
        "Code for Quantum Support Vector Machine:"
      ],
      "metadata": {
        "id": "IzxNhX299RL0"
      }
    },
    {
      "cell_type": "code",
      "source": [
        "\n",
        "import numpy as np\n",
        "import pandas as pd\n",
        "from qiskit.aqua import QuantumInstance\n",
        "from qiskit.aqua.algorithms import QSVM\n",
        "from qiskit.aqua.components.feature_maps import SecondOrderExpansion\n",
        "from qiskit.finance.applications import OptimalPricing\n",
        "from qiskit.finance.data_providers import RandomDataProvider\n",
        "\n",
        "# Load data\n",
        "df = pd.read_excel('Saledata.xlsx', sheet_name='Sheet1')\n",
        "\n",
        "# Convert data to numpy arrays\n",
        "dates = pd.to_datetime(df['OrderDate'])\n",
        "product_ids = df['Productid'].unique()\n",
        "unit_sales = np.zeros((len(product_ids), len(dates)))\n",
        "for i, pid in enumerate(product_ids):\n",
        "    unit_sales[i] = df.loc[df['Productid']==pid, 'Units'].values\n",
        "    \n",
        "# Run quantum support vector machine\n",
        "provider = RandomDataProvider(tickers=product_ids, seed=0, start=dates[0], end=dates[-1])\n",
        "mu = provider.get_mean_vector()\n",
        "sigma = provider.get_covariance_matrix()\n",
        "feature_map = SecondOrderExpansion(num_qubits=2, depth=1)\n",
        "svm = QSVM(feature_map,\n"
      ],
      "metadata": {
        "id": "FeQHwEr0syE6"
      },
      "execution_count": null,
      "outputs": []
    },
    {
      "cell_type": "code",
      "source": [
        "\n"
      ],
      "metadata": {
        "id": "trJaEyoTs0QE"
      },
      "execution_count": null,
      "outputs": []
    },
    {
      "cell_type": "code",
      "source": [],
      "metadata": {
        "id": "_TrvHm0Os2zf"
      },
      "execution_count": null,
      "outputs": []
    }
  ]
}